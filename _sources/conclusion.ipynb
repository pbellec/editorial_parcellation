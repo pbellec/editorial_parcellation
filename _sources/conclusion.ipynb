{
 "cells": [
  {
   "cell_type": "markdown",
   "id": "5015a5b4",
   "metadata": {},
   "source": [
    "# Conclusion\n",
    "\n",
    "By checking the word clouds and the titles, the categories of papers are pretty clear. The editorial we wrote was based on this analysis, and we went through each paper category in a separate section. As a side note, although this analysis does not really have scientific value, apart from sparing us from manually assigning papers to categories, it is concise and features a range of visualizations. So we chose to use the analysis as a proof of concept for reproducible publications using the [Neurolibre](https://neurolibre.org) preprint service, which may be the medium where you are reading these lines."
   ]
  }
 ],
 "metadata": {
  "jupytext": {
   "cell_metadata_filter": "-all",
   "formats": "md:myst",
   "text_representation": {
    "extension": ".md",
    "format_name": "myst",
    "format_version": 0.13,
    "jupytext_version": "1.10.3"
   }
  },
  "kernelspec": {
   "display_name": "Python 3",
   "language": "python",
   "name": "python3"
  },
  "language_info": {
   "codemirror_mode": {
    "name": "ipython",
    "version": 3
   },
   "file_extension": ".py",
   "mimetype": "text/x-python",
   "name": "python",
   "nbconvert_exporter": "python",
   "pygments_lexer": "ipython3",
   "version": "3.8.10"
  },
  "source_map": [
   14
  ]
 },
 "nbformat": 4,
 "nbformat_minor": 5
}