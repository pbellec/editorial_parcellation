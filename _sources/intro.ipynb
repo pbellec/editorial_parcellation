{
 "cells": [
  {
   "cell_type": "markdown",
   "id": "69968008",
   "metadata": {},
   "source": [
    "<table>\n",
    "  <tr>\n",
    "    <td align=\"center\">\n",
    "      <a href=\"https://github.com/pbellec\">\n",
    "        <img src=\"https://avatars.githubusercontent.com/u/1670887?v=4?s=100\" width=\"100px;\" alt=\"\"/>\n",
    "        <br /><sub><b>Pierre bellec</b></sub>\n",
    "      </a>\n",
    "      <br />\n",
    "        <a title=\"Contenu\">🤔</a>\n",
    "        <a title=\"Code\">💻</a>\n",
    "        <a title=\"Révision du texte\">👀</a>\n",
    "    </td>\n",
    "    <td align=\"center\">\n",
    "      <a href=\"https://users.fmrib.ox.ac.uk/~saad/\">\n",
    "        <img src=\"https://users.fmrib.ox.ac.uk/~saad/Saad2013.jpg\" width=\"100px;\" alt=\"\"/>\n",
    "        <br /><sub><b>Saad Jbabdi</b></sub>\n",
    "      </a>\n",
    "      <br />\n",
    "        <a title=\"Révision du texte\">👀</a>\n",
    "    </td>\n",
    "    <td align=\"center\">\n",
    "      <a href=\"https://github.com/ccraddock\">\n",
    "        <img src=\"https://avatars.githubusercontent.com/u/1725272?v=4?s=100\" width=\"100px;\" alt=\"\"/>\n",
    "        <br /><sub><b>Cameron Craddock</b></sub>\n",
    "      </a>\n",
    "      <br />\n",
    "        <a title=\"Révision du texte\">👀</a>\n",
    "    </td>    \n",
    "  </tr>\n",
    "</table>\n",
    "\n",
    "# Introduction\n",
    "\n",
    "Back in 2017, we were invited as guest editors for the journal \"neuroimage\", and organized a special issue on the topic of **brain parcellation and segmentation**. After months of receiving submissions and going through the stages of peer review for all articles, there were 38 papers accepted for publication. We were left with the difficult task of writing a short editorial summarizing concisely this fairly large snapshot of a vibrant area of neuroimaging research. Quickly we realized that we needed to group the papers into more specific categories than the general umbrella of parcellation and segmentation.\n",
    "\n",
    "\n",
    "Parcellation, segmentation (or clustering and community detection) are just different names for generic techniques aimed at finding broad categories in the data, while abstracting away less relevant finer-grained information. So when facing the problem of drawing categories of papers for the editorial, it was only natural to apply a parcellation analysis. In other words, we decided to **parcellate the parcellation (special) issue**. This jupyter book will allow interested readers to reproduce the short analysis that went into building the categories. You can read the final editorial [here](https://doi.org/10.1016/j.neuroimage.2017.11.063) (sadly behind a paywall).\n",
    "\n",
    "This reproducible analysis is possible thanks to the following projects:\n",
    " * The [python](https://www.python.org/) programming language.\n",
    " * [Jupyter book](https://jupyterbook.org) is used to generate the html pages, and is itself based on [sphynx](https://www.sphinx-doc.org).\n",
    " * The [NeuroLibre](https://neurolibre.org) is hosting this jupyter book.\n",
    " * The [scipy](https://www.scipy.org/) scientific library.\n",
    " * The [seaborn](https://seaborn.pydata.org/) visualization library.\n",
    " * The [wordcloud](https://amueller.github.io/word_cloud/) library."
   ]
  }
 ],
 "metadata": {
  "jupytext": {
   "cell_metadata_filter": "-all",
   "formats": "md:myst",
   "text_representation": {
    "extension": ".md",
    "format_name": "myst",
    "format_version": 0.13,
    "jupytext_version": "1.10.3"
   }
  },
  "kernelspec": {
   "display_name": "Python 3",
   "language": "python",
   "name": "python3"
  },
  "language_info": {
   "codemirror_mode": {
    "name": "ipython",
    "version": 3
   },
   "file_extension": ".py",
   "mimetype": "text/x-python",
   "name": "python",
   "nbconvert_exporter": "python",
   "pygments_lexer": "ipython3",
   "version": "3.8.10"
  },
  "source_map": [
   14
  ]
 },
 "nbformat": 4,
 "nbformat_minor": 5
}